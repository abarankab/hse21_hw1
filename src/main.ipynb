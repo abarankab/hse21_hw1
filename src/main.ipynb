{
 "cells": [
  {
   "cell_type": "code",
   "execution_count": 73,
   "id": "c1722f28",
   "metadata": {},
   "outputs": [],
   "source": [
    "import os\n",
    "import re\n",
    "\n",
    "DATA_DIR = \"remote_files\""
   ]
  },
  {
   "cell_type": "code",
   "execution_count": 168,
   "id": "91f64e8e",
   "metadata": {},
   "outputs": [],
   "source": [
    "def get_N50(sorted_length_array):\n",
    "    prefix_length = 0\n",
    "    total_length = sum(sorted_length_array)\n",
    "    \n",
    "    for length in sorted_length_array:\n",
    "        prefix_length += length\n",
    "        if prefix_length >= total_length // 2:\n",
    "            return length\n",
    "        \n",
    "\n",
    "def analyse(filename, description):\n",
    "    lines = open(filename, \"r\").readlines()\n",
    "    length_array = []\n",
    "    \n",
    "    for line in lines:\n",
    "        if line.startswith(\">\"):\n",
    "            length_array.append(int(line.split(\"_\")[1][3:]))  # getting length from _len{num}_ in description\n",
    "    \n",
    "    length_array.sort(reverse=True)\n",
    "    \n",
    "    print(f\"{description}:\\n\"\\\n",
    "          f\"Amount: {len(length_array)}\\n\"\\\n",
    "          f\"Sum of lengths: {sum(length_array)}\\n\"\\\n",
    "          f\"Longest: {max(length_array)}\\n\"\\\n",
    "          f\"N50: {get_N50(length_array)}\")\n",
    "\n",
    "\n",
    "def analyse_gaps(filename, description):\n",
    "    lines = open(filename, \"r\").readlines()\n",
    "    scaffolds = []\n",
    "    \n",
    "    ind = 0\n",
    "    while ind != len(lines):\n",
    "        if lines[ind].startswith(\">\"):\n",
    "            scaffold_segments = []\n",
    "            ind += 1\n",
    "            while ind != len(lines) and not lines[ind].startswith(\">\"):\n",
    "                if lines[ind].endswith(\"\\n\"):\n",
    "                    scaffold_segments.append(lines[ind][:-1])\n",
    "                else:\n",
    "                    scaffold_segments.append(lines[ind])\n",
    "                ind += 1\n",
    "            \n",
    "            scaffolds.append(\"\".join(scaffold_segments))\n",
    "        \n",
    "    longest_scaffold_ind = max(enumerate(scaffolds), key=lambda p: len(p[1]))[0]\n",
    "    longest_scaffold = scaffolds[longest_scaffold_ind]\n",
    "    \n",
    "    if set(longest_scaffold) == {'G', 'A', 'N', 'C', 'T'}:\n",
    "        gaps = re.findall(\"N+\", longest_scaffold)\n",
    "        gap_lengths = [len(gap) for gap in gaps]\n",
    "\n",
    "        print(f\"{description}:\\n\"\\\n",
    "              f\"Number of gaps: {len(gaps)}\\n\"\\\n",
    "              f\"Longest gap: {max(gap_lengths)}\")\n",
    "    elif set(longest_scaffold) == {'G', 'A', 'C', 'T'}:\n",
    "        print(f\"{description}:\\n\"\\\n",
    "              \"No gaps in the longest scaffold\")\n",
    "    else:\n",
    "        print(\"oopsie doopsie there is an error in your program\")"
   ]
  },
  {
   "cell_type": "code",
   "execution_count": 169,
   "id": "cbcd8272",
   "metadata": {},
   "outputs": [],
   "source": [
    "contig_file = os.path.join(DATA_DIR, \"out_contig.fa\")\n",
    "scaffold_file = os.path.join(DATA_DIR, \"out_scaffold.fa\")\n",
    "scaffold_gap_closed_file = os.path.join(DATA_DIR, \"out_gapClosed.fa\")"
   ]
  },
  {
   "cell_type": "code",
   "execution_count": 170,
   "id": "d5885adc",
   "metadata": {},
   "outputs": [
    {
     "name": "stdout",
     "output_type": "stream",
     "text": [
      "Contigs:\n",
      "Amount: 508\n",
      "Sum of lengths: 3922866\n",
      "Longest: 304923\n",
      "N50: 115749\n"
     ]
    }
   ],
   "source": [
    "analyse(contig_file, \"Contigs\")"
   ]
  },
  {
   "cell_type": "code",
   "execution_count": 171,
   "id": "36965077",
   "metadata": {},
   "outputs": [
    {
     "name": "stdout",
     "output_type": "stream",
     "text": [
      "Scaffolds:\n",
      "Amount: 82\n",
      "Sum of lengths: 3877799\n",
      "Longest: 3834014\n",
      "N50: 3834014\n"
     ]
    }
   ],
   "source": [
    "analyse(scaffold_file, \"Scaffolds\")"
   ]
  },
  {
   "cell_type": "code",
   "execution_count": 172,
   "id": "edbca0b7",
   "metadata": {},
   "outputs": [
    {
     "name": "stdout",
     "output_type": "stream",
     "text": [
      "Original scaffolds:\n",
      "Number of gaps: 45\n",
      "Longest gap: 780\n"
     ]
    }
   ],
   "source": [
    "analyse_gaps(scaffold_file, \"Original scaffolds\")"
   ]
  },
  {
   "cell_type": "code",
   "execution_count": 173,
   "id": "e0553d69",
   "metadata": {},
   "outputs": [
    {
     "name": "stdout",
     "output_type": "stream",
     "text": [
      "Gap closed scaffolds:\n",
      "Number of gaps: 8\n",
      "Longest gap: 780\n"
     ]
    }
   ],
   "source": [
    "analyse_gaps(scaffold_gap_closed_file, \"Gap closed scaffolds\")"
   ]
  },
  {
   "cell_type": "markdown",
   "id": "156772ac",
   "metadata": {},
   "source": [
    "## Saving files to data/"
   ]
  },
  {
   "cell_type": "code",
   "execution_count": 177,
   "id": "c00065bd",
   "metadata": {},
   "outputs": [],
   "source": [
    "def save_longest_scaffold(filename, out_filename):\n",
    "    lines = open(filename, \"r\").readlines()\n",
    "    out_file = open(out_filename, \"w\")\n",
    "    scaffolds = []\n",
    "    \n",
    "    ind = 0\n",
    "    while ind != len(lines):\n",
    "        if lines[ind].startswith(\">\"):\n",
    "            scaffold_segments = []\n",
    "            ind += 1\n",
    "            while ind != len(lines) and not lines[ind].startswith(\">\"):\n",
    "                if lines[ind].endswith(\"\\n\"):\n",
    "                    scaffold_segments.append(lines[ind][:-1])\n",
    "                else:\n",
    "                    scaffold_segments.append(lines[ind])\n",
    "                ind += 1\n",
    "            \n",
    "            scaffolds.append(\"\".join(scaffold_segments))\n",
    "        \n",
    "    longest_scaffold_ind = max(enumerate(scaffolds), key=lambda p: len(p[1]))[0]\n",
    "    longest_scaffold = scaffolds[longest_scaffold_ind]\n",
    "    \n",
    "    out_file.write(\">longest_scaffold\\n\")\n",
    "    out_file.write(longest_scaffold)"
   ]
  },
  {
   "cell_type": "code",
   "execution_count": 126,
   "id": "1bc6e3d2",
   "metadata": {},
   "outputs": [],
   "source": [
    "!mkdir data"
   ]
  },
  {
   "cell_type": "code",
   "execution_count": 127,
   "id": "4fa914e0",
   "metadata": {},
   "outputs": [],
   "source": [
    "!cp remote_files/out_contig.fa data/contigs.fasta\n",
    "!cp remote_files/out_gapClosed.fa data/scaffolds.fasta"
   ]
  },
  {
   "cell_type": "code",
   "execution_count": 178,
   "id": "926bcafb",
   "metadata": {},
   "outputs": [],
   "source": [
    "save_longest_scaffold(scaffold_gap_closed_file, \"data/longest.fasta\")"
   ]
  }
 ],
 "metadata": {
  "kernelspec": {
   "display_name": "Python 3 (ipykernel)",
   "language": "python",
   "name": "python3"
  },
  "language_info": {
   "codemirror_mode": {
    "name": "ipython",
    "version": 3
   },
   "file_extension": ".py",
   "mimetype": "text/x-python",
   "name": "python",
   "nbconvert_exporter": "python",
   "pygments_lexer": "ipython3",
   "version": "3.9.7"
  }
 },
 "nbformat": 4,
 "nbformat_minor": 5
}
